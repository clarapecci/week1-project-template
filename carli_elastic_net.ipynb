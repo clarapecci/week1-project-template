{
 "cells": [
  {
   "cell_type": "code",
   "execution_count": 1,
   "id": "0669bf00-a81c-4c29-bad0-ac478d620288",
   "metadata": {},
   "outputs": [],
   "source": [
    "# ALL PACKAGES\n",
    "\n",
    "import pandas as pd\n",
    "import numpy as np\n",
    "from sklearn.linear_model import ElasticNetCV\n",
    "from sklearn.model_selection import RepeatedKFold\n",
    "from sklearn.metrics import r2_score\n",
    "from scipy.stats import pearsonr\n",
    "import multiprocessing\n",
    "import warnings\n",
    "warnings.filterwarnings('ignore')"
   ]
  },
  {
   "cell_type": "code",
   "execution_count": 3,
   "id": "3b03b803-83bf-4c4e-9e67-e93a5da18c44",
   "metadata": {},
   "outputs": [],
   "source": [
    "# LOAD DATA \n",
    "\n",
    "## LOAD SOMETHING CALLED training_data here where it's all useful columns plus the subject ID's and their p_factor scores \n",
    "\n",
    "TRAINING_PFACTOR = training_data['p_factor'] \n",
    "TRAINING_DATASET_COLUMNS = training_data.drop(['subject_id', 'p_factor'], axis=1) \n",
    "\n",
    "test_subject_ids = test_data['subject_id']  # Save subject IDs for final output\n",
    "TESTING_DATASET_COLUMNS = test_data.drop(['subject_id'], axis=1)  # Features only (adjust as needed)"
   ]
  },
  {
   "cell_type": "code",
   "execution_count": null,
   "id": "93fc8642-454e-45d1-b007-b2971086a8cf",
   "metadata": {},
   "outputs": [],
   "source": [
    "# Initialize the Model\n",
    "model = ElasticNetCV(\n",
    "    l1_ratio = [0, 0.2, 0.5, 0.8, 1.0],  # Mix ratio: Ridge to Lasso (0 is pure ridge, 1 is pure lasso)\n",
    "    alphas = [0.01, 0.1, 1.0, 10.0],  # Penalty strength to avoid overfitting (higher is more flattening)\n",
    "    cv = RepeatedKFold(n_splits=5, n_repeats=10, random_state=123), #5-fold CV with 10 repeats, random state/seed for reproducibility\n",
    "    max_iter= 2000, #if it keeps failing we could increase it\n",
    "    n_jobs= multiprocessing.cpu_count() - 2  # Set up parallel processing (this makes it go faster, and 2 fewer cores than max avoids freezing the system)\n",
    ")\n",
    "\n",
    "# Fit the model on the training data\n",
    "model.fit(TRAINING_DATASET_COLUMNS, TRAINING_PFACTOR)\n",
    "\n",
    "#Evaluate how well the model did\n",
    "training_r2 = model.score(TRAINING_DATASET_COLUMNS, TRAINING_PFACTOR)\n",
    "print(f\"Training R² Score: {training_r2:.4f}\")"
   ]
  },
  {
   "cell_type": "code",
   "execution_count": null,
   "id": "8423830e-71f8-47b4-ba37-7039c38a7352",
   "metadata": {},
   "outputs": [],
   "source": [
    "# Do the actual model testing!\n",
    "predicted_pfactor = model.predict(TESTING_DATASET_COLUMNS) "
   ]
  },
  {
   "cell_type": "code",
   "execution_count": 4,
   "id": "868104bc-7ff9-4026-8544-901f64e441f2",
   "metadata": {},
   "outputs": [
    {
     "ename": "NameError",
     "evalue": "name 'test_subject_ids' is not defined",
     "output_type": "error",
     "traceback": [
      "\u001b[0;31m---------------------------------------------------------------------------\u001b[0m",
      "\u001b[0;31mNameError\u001b[0m                                 Traceback (most recent call last)",
      "Cell \u001b[0;32mIn[4], line 2\u001b[0m\n\u001b[1;32m      1\u001b[0m submission_df \u001b[38;5;241m=\u001b[39m pd\u001b[38;5;241m.\u001b[39mDataFrame({\n\u001b[0;32m----> 2\u001b[0m     \u001b[38;5;124m'\u001b[39m\u001b[38;5;124msubject_id\u001b[39m\u001b[38;5;124m'\u001b[39m: \u001b[43mtest_subject_ids\u001b[49m,\n\u001b[1;32m      3\u001b[0m     \u001b[38;5;124m'\u001b[39m\u001b[38;5;124mpredicted_p_factor\u001b[39m\u001b[38;5;124m'\u001b[39m: predicted_pfactor\n\u001b[1;32m      4\u001b[0m })\n\u001b[1;32m      6\u001b[0m submission_df\u001b[38;5;241m.\u001b[39mto_csv(\u001b[38;5;124m'\u001b[39m\u001b[38;5;124mpredictions.tsv\u001b[39m\u001b[38;5;124m'\u001b[39m, sep\u001b[38;5;241m=\u001b[39m\u001b[38;5;124m'\u001b[39m\u001b[38;5;130;01m\\t\u001b[39;00m\u001b[38;5;124m'\u001b[39m, index\u001b[38;5;241m=\u001b[39m\u001b[38;5;28;01mFalse\u001b[39;00m)\n",
      "\u001b[0;31mNameError\u001b[0m: name 'test_subject_ids' is not defined"
     ]
    }
   ],
   "source": [
    "# Save for submission\n",
    "\n",
    "predictions_df = pd.DataFrame({\n",
    "    'subject_id': test_subject_ids,\n",
    "    'predicted_p_factor': predicted_pfactor\n",
    "})\n",
    "\n",
    "predictions_df.to_csv('Nothing_But_Elastic_Net_Predictions.tsv', sep='\\t', index=False)"
   ]
  }
 ],
 "metadata": {
  "kernelspec": {
   "display_name": "Python 3 (ipykernel)",
   "language": "python",
   "name": "python3"
  },
  "language_info": {
   "codemirror_mode": {
    "name": "ipython",
    "version": 3
   },
   "file_extension": ".py",
   "mimetype": "text/x-python",
   "name": "python",
   "nbconvert_exporter": "python",
   "pygments_lexer": "ipython3",
   "version": "3.11.11"
  }
 },
 "nbformat": 4,
 "nbformat_minor": 5
}
