{
 "cells": [
  {
   "cell_type": "code",
   "execution_count": null,
   "id": "0669bf00-a81c-4c29-bad0-ac478d620288",
   "metadata": {},
   "outputs": [],
   "source": [
    "import pandas as pd\n",
    "import numpy as np\n",
    "from sklearn.linear_model import ElasticNetCV\n",
    "from sklearn.model_selection import RepeatedKFold\n",
    "from sklearn.metrics import r2_score\n",
    "from scipy.stats import pearsonr\n",
    "import multiprocessing\n",
    "import warnings\n",
    "warnings.filterwarnings('ignore')"
   ]
  },
  {
   "cell_type": "code",
   "execution_count": null,
   "id": "93fc8642-454e-45d1-b007-b2971086a8cf",
   "metadata": {},
   "outputs": [],
   "source": [
    "# Initialize the Model\n",
    "model = ElasticNetCV(\n",
    "    l1_ratio = [0, 0.2, 0.5, 0.8, 1.0],  # Mix ratio: Ridge to Lasso (0 is pure ridge, 1 is pure lasso)\n",
    "    alphas = [0.01, 0.1, 1.0, 10.0],  # Penalty strength to avoid overfitting (higher is more flattening)\n",
    "    cv = RepeatedKFold(n_splits=5, n_repeats=10, random_state=123), #5-fold CV with 10 repeats, random state/seed for reproducibility\n",
    "    max_iter= 2000, #if it keeps failing we could increase it\n",
    "    n_jobs= multiprocessing.cpu_count() - 2  # Set up parallel processing (this makes it go faster, and 2 fewer cores than max avoids freezing the system)\n",
    ")\n",
    "\n",
    "# Fit the Model\n",
    "model.fit(TRAINING_DATASET_COLUMNS, TRAINING_PFACTOR) # need to replace the columns with whatever the columns are \n",
    "\n",
    "# Evaluate Model performance on the held-out test set\n",
    "predicted_pfactor = model.predict(TESTING_DATASET_COLUMNS) # replace these columns with the testing set minus the pfactor column \n",
    "    \n",
    "# Evaluate the Model\n",
    "corr_final = pearsonr(ACTUAL_TESTING_PFACTOR, predicted_pfactor) # this is the correlation between predicted versus the actual p-factor value and also gives a significance p-value \n",
    "R_squared_final = r2_score(ACTUAL_TESTING_PFACTOR, predicted_pfactor) # percentage of variance explained by our model "
   ]
  },
  {
   "cell_type": "code",
   "execution_count": null,
   "id": "8cfc1406-10fc-4358-a7d3-9a21191385dd",
   "metadata": {},
   "outputs": [],
   "source": [
    "# Print results \n",
    "results = {\n",
    "    'model': model,\n",
    "    'best_alpha': model.alpha_,\n",
    "    'best_l1_ratio': model.l1_ratio_,\n",
    "    'predicted_testdata': predicted_testdata,\n",
    "    'corr_final': corr_final,\n",
    "    'R_squared_final': R_squared_final\n",
    "}\n",
    "\n",
    "print(results)"
   ]
  }
 ],
 "metadata": {
  "kernelspec": {
   "display_name": "Python 3 (ipykernel)",
   "language": "python",
   "name": "python3"
  },
  "language_info": {
   "codemirror_mode": {
    "name": "ipython",
    "version": 3
   },
   "file_extension": ".py",
   "mimetype": "text/x-python",
   "name": "python",
   "nbconvert_exporter": "python",
   "pygments_lexer": "ipython3",
   "version": "3.11.11"
  }
 },
 "nbformat": 4,
 "nbformat_minor": 5
}
