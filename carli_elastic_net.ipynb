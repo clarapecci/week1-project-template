{
 "cells": [
  {
   "cell_type": "code",
   "execution_count": null,
   "id": "0669bf00-a81c-4c29-bad0-ac478d620288",
   "metadata": {},
   "outputs": [],
   "source": [
    "import pandas as pd\n",
    "import numpy as np\n",
    "from sklearn.linear_model import ElasticNetCV\n",
    "from sklearn.model_selection import RepeatedKFold\n",
    "from sklearn.metrics import r2_score\n",
    "from scipy.stats import pearsonr\n",
    "import multiprocessing\n",
    "import warnings\n",
    "warnings.filterwarnings('ignore')"
   ]
  },
  {
   "cell_type": "code",
   "execution_count": null,
   "id": "93fc8642-454e-45d1-b007-b2971086a8cf",
   "metadata": {},
   "outputs": [],
   "source": [
    "# Initialize the Model\n",
    "model = ElasticNetCV(\n",
    "    l1_ratio = [0, 0.2, 0.5, 0.8, 1.0],  # Mix ratio: Ridge to Lasso\n",
    "    alphas = [0.01, 0.1, 1.0, 10.0],  # Penalty strength on log scale \n",
    "    cv = RepeatedKFold(n_splits=5, n_repeats=10, random_state=random_state),\n",
    "    max_iter= 2000,\n",
    "    n_jobs= multiprocessing.cpu_count() - 2  # Set up parallel processing (2 fewer cores than max)\n",
    ")\n",
    "    \n",
    "# Fit the Model\n",
    "model.fit(TRAINING_DATASET_COLUMNS, TRAINING_PFACTOR)\n",
    "\n",
    "# Evaluate Model performance on the held-out test set\n",
    "predicted_testdata = model.predict(TESTING_DATASET_COLUMNS)\n",
    "    \n",
    "# Evaluate the Model\n",
    "corr_final = pearsonr(predicted_testdata, TESTING_PFACTOR)[0]\n",
    "R_squared_final = r2_score(TESTING_PFACTOR, predicted_testdata)"
   ]
  },
  {
   "cell_type": "code",
   "execution_count": null,
   "id": "8cfc1406-10fc-4358-a7d3-9a21191385dd",
   "metadata": {},
   "outputs": [],
   "source": [
    "# Print results \n",
    "results = {\n",
    "    'model': model,\n",
    "    'best_alpha': model.alpha_,\n",
    "    'best_l1_ratio': model.l1_ratio_,\n",
    "    'predicted_testdata': predicted_testdata,\n",
    "    'corr_final': corr_final,\n",
    "    'R_squared_final': R_squared_final\n",
    "}\n",
    "\n",
    "print(results)"
   ]
  }
 ],
 "metadata": {
  "kernelspec": {
   "display_name": "Python 3 (ipykernel)",
   "language": "python",
   "name": "python3"
  },
  "language_info": {
   "codemirror_mode": {
    "name": "ipython",
    "version": 3
   },
   "file_extension": ".py",
   "mimetype": "text/x-python",
   "name": "python",
   "nbconvert_exporter": "python",
   "pygments_lexer": "ipython3",
   "version": "3.11.11"
  }
 },
 "nbformat": 4,
 "nbformat_minor": 5
}
